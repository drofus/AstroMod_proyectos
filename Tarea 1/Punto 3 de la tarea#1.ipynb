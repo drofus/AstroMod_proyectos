{
 "cells": [
  {
   "cell_type": "code",
   "execution_count": 1,
   "metadata": {},
   "outputs": [],
   "source": [
    "import numpy as np\n",
    "import matplotlib.pyplot as plt"
   ]
  },
  {
   "cell_type": "code",
   "execution_count": 46,
   "metadata": {},
   "outputs": [],
   "source": [
    "#Particula 1 y 2\n",
    "\n",
    "#masa\n",
    "\n",
    "m1 = 15\n",
    "m2 = 10\n",
    "m = m1+m2\n",
    "\n",
    "#velocidad\n",
    "c = 3e+8 #m/s\n",
    "\n",
    "u1 = 0.5*c\n",
    "u2 = 0.6*c\n",
    "v = u1+u2\n",
    "gamma1 = 1/(np.sqrt(1-u1**2/c**2))\n",
    "gamma2 = 1/(np.sqrt(1-u2**2/c**2))\n",
    "\n",
    "#particula resultante\n",
    "\n",
    "k = 0.5*m*v**2\n",
    "dm = k/c**2\n",
    "M = m + dm\n",
    "a = m1*u1*gamma1\n",
    "b = m2*u2*gamma2\n",
    "v = np.sqrt((c**2*(a**2+2*a*b+b**2))/(a**2+b**2+M**2*c**2+2*a*b))"
   ]
  },
  {
   "cell_type": "code",
   "execution_count": 36,
   "metadata": {},
   "outputs": [],
   "source": [
    "#Parametros de gráfica\n",
    "Nt = 100\n",
    "t = np.linspace(0,1,Nt) #s\n",
    "r0 = c #m\n",
    "y = np.zeros(Nt)\n",
    "\n",
    "#Ancho de masa 1, 2 y M\n",
    "Am_1 = 30*m1\n",
    "Am_2 = 30*m2\n",
    "AM = 30*M\n",
    "\n",
    "#primera particula\n",
    "r1 = np.zeros(Nt)\n",
    "for i in range(Nt):\n",
    "    r1[i] = u1*t[i]\n",
    "\n",
    "#segunda particula\n",
    "r2 = np.zeros(Nt)\n",
    "for i in range(Nt):\n",
    "    r2[i] = r0+u2*t[i]\n",
    "    \n",
    "#Particula resultante\n",
    "rm = np.zeros(Nt)\n",
    "for i in range(Nt):\n",
    "    rm[i] = v*t[i]"
   ]
  },
  {
   "cell_type": "code",
   "execution_count": 43,
   "metadata": {},
   "outputs": [
    {
     "data": {
      "text/plain": [
       "Text(0.5, 1.0, 'Despues del choque')"
      ]
     },
     "execution_count": 43,
     "metadata": {},
     "output_type": "execute_result"
    },
    {
     "data": {
      "image/png": "[encoded data removed]",
      "text/plain": [
       "<Figure size 720x360 with 2 Axes>"
      ]
     },
     "metadata": {
      "needs_background": "light"
     },
     "output_type": "display_data"
    }
   ],
   "source": [
    "#Gráfica\n",
    "\n",
    "fig,axs = plt.subplots(1,2,figsize=(10,5))\n",
    "\n",
    "#masa 1\n",
    "axs[0].scatter(0,0, color = 'red', s = Am_1)\n",
    "axs[0].plot(r1,y, color = 'red', label = 'Masa 1')\n",
    "\n",
    "#masa 2\n",
    "axs[0].scatter(r0,0, color = 'blue', s = Am_2)\n",
    "axs[0].plot(r2,y, color = 'blue', label = 'Masa 2')\n",
    "\n",
    "axs[0].grid()\n",
    "axs[0].axis(\"equal\")\n",
    "axs[0].set_title(\"Antes del choque\")\n",
    "axs[0].legend()\n",
    "\n",
    "#masa resultante\n",
    "axs[1].scatter(0,0, color = 'purple', s = AM)\n",
    "axs[1].plot(rm,y, color = 'purple')\n",
    "\n",
    "axs[1].grid()\n",
    "axs[1].axis(\"equal\")\n",
    "axs[1].set_title(\"Despues del choque\")"
   ]
  },
  {
   "cell_type": "code",
   "execution_count": 45,
   "metadata": {},
   "outputs": [
    {
     "name": "stdout",
     "output_type": "stream",
     "text": [
      "31.875 0.4880552089141968\n"
     ]
    }
   ],
   "source": [
    "print(M,v/c)"
   ]
  },
  {
   "cell_type": "code",
   "execution_count": null,
   "metadata": {},
   "outputs": [],
   "source": []
  }
 ],
 "metadata": {
  "kernelspec": {
   "display_name": "Python 3",
   "language": "python",
   "name": "python3"
  },
  "language_info": {
   "codemirror_mode": {
    "name": "ipython",
    "version": 3
   },
   "file_extension": ".py",
   "mimetype": "text/x-python",
   "name": "python",
   "nbconvert_exporter": "python",
   "pygments_lexer": "ipython3",
   "version": "3.7.6"
  }
 },
 "nbformat": 4,
 "nbformat_minor": 4
}
