{
 "cells": [
  {
   "cell_type": "code",
   "execution_count": 2,
   "metadata": {},
   "outputs": [],
   "source": [
    "import numpy as np\n",
    "import matplotlib.pyplot as plt"
   ]
  },
  {
   "cell_type": "markdown",
   "metadata": {},
   "source": [
    "# 1. Una partícula de la masa en reposo $m_0$, energía $E_0$ y momento $p_0$ sufre una colisión elástica frontal (es decir, masas de partículas sin alterar) con energía $E$ y momento $P$, dejando la primera partícula con energía $E_1$ y $p_1$. Calcule $P$ y $p_1$, ¿a qué se reducen estas expresiones en el límite clásico? Realice una simulación del fenómeno acá expuesto."
   ]
  },
  {
   "cell_type": "markdown",
   "metadata": {},
   "source": [
    "Usando la conservación del momento tenemos que:\n",
    "\\begin{equation}\n",
    "\\vec{p_0} = \\vec{p_1} + {P}\n",
    "\\end{equation}"
   ]
  },
  {
   "cell_type": "code",
   "execution_count": 9,
   "metadata": {},
   "outputs": [
    {
     "name": "stdout",
     "output_type": "stream",
     "text": [
      "-1.3333333333333326 5.333333333333332\n"
     ]
    }
   ],
   "source": [
    "m_o = 1 #kg\n",
    "p_o = 4\n",
    "M = 2 #kg\n",
    "c = 3e+8 #m/s\n",
    "\n",
    "p_1 = (m_o**2*c**2*p_o+2*M**3*p_o*np.sqrt(c**2*(m_o**2*c**2+p_o**2))-2*m_o**2*M*p_o*np.sqrt(\n",
    "c**2*(m_o**2*c**2+p_o**2))-M**4*c**2*p_o)/(m_o**4*c**2-2*m_o**2*M**2*c**2+M**4*c**2-4*M**2*p_o**2)\n",
    "\n",
    "P = p_o-p_1\n",
    "\n",
    "def E(p,m):\n",
    "    return np.sqrt((p*c)**2+(m*c**2)**2)\n",
    "\n",
    "e1 = E(p_o,m_o) + M*c**2\n",
    "e2 = E(p_1,m_o) + E(P,M)\n",
    "\n",
    "print(p_1,P)"
   ]
  },
  {
   "cell_type": "code",
   "execution_count": 24,
   "metadata": {},
   "outputs": [
    {
     "name": "stdout",
     "output_type": "stream",
     "text": [
      "[3.e+08 3.e+08 3.e+08 3.e+08 3.e+08 3.e+08 3.e+08 3.e+08 3.e+08 3.e+08\n",
      " 3.e+08 3.e+08 3.e+08 3.e+08 3.e+08 3.e+08 3.e+08 3.e+08 3.e+08 3.e+08\n",
      " 3.e+08 3.e+08 3.e+08 3.e+08 3.e+08 3.e+08 3.e+08 3.e+08 3.e+08 3.e+08\n",
      " 3.e+08 3.e+08 3.e+08 3.e+08 3.e+08 3.e+08 3.e+08 3.e+08 3.e+08 3.e+08\n",
      " 3.e+08 3.e+08 3.e+08 3.e+08 3.e+08 3.e+08 3.e+08 3.e+08 3.e+08 3.e+08\n",
      " 3.e+08 3.e+08 3.e+08 3.e+08 3.e+08 3.e+08 3.e+08 3.e+08 3.e+08 3.e+08\n",
      " 3.e+08 3.e+08 3.e+08 3.e+08 3.e+08 3.e+08 3.e+08 3.e+08 3.e+08 3.e+08\n",
      " 3.e+08 3.e+08 3.e+08 3.e+08 3.e+08 3.e+08 3.e+08 3.e+08 3.e+08 3.e+08\n",
      " 3.e+08 3.e+08 3.e+08 3.e+08 3.e+08 3.e+08 3.e+08 3.e+08 3.e+08 3.e+08\n",
      " 3.e+08 3.e+08 3.e+08 3.e+08 3.e+08 3.e+08 3.e+08 3.e+08 3.e+08 3.e+08\n",
      "    nan 3.e+08 3.e+08 3.e+08 3.e+08 3.e+08 3.e+08 3.e+08 3.e+08 3.e+08\n",
      " 3.e+08 3.e+08 3.e+08 3.e+08 3.e+08 3.e+08 3.e+08 3.e+08 3.e+08 3.e+08\n",
      " 3.e+08 3.e+08 3.e+08 3.e+08 3.e+08 3.e+08 3.e+08 3.e+08 3.e+08 3.e+08\n",
      " 3.e+08 3.e+08 3.e+08 3.e+08 3.e+08 3.e+08 3.e+08 3.e+08 3.e+08 3.e+08\n",
      " 3.e+08 3.e+08 3.e+08 3.e+08 3.e+08 3.e+08 3.e+08 3.e+08 3.e+08 3.e+08\n",
      " 3.e+08 3.e+08 3.e+08 3.e+08 3.e+08 3.e+08 3.e+08 3.e+08 3.e+08 3.e+08\n",
      " 3.e+08 3.e+08 3.e+08 3.e+08 3.e+08 3.e+08 3.e+08 3.e+08 3.e+08 3.e+08\n",
      " 3.e+08 3.e+08 3.e+08 3.e+08 3.e+08 3.e+08 3.e+08 3.e+08 3.e+08 3.e+08\n",
      " 3.e+08 3.e+08 3.e+08 3.e+08 3.e+08 3.e+08 3.e+08 3.e+08 3.e+08 3.e+08\n",
      " 3.e+08 3.e+08 3.e+08 3.e+08 3.e+08 3.e+08 3.e+08 3.e+08 3.e+08 3.e+08]\n"
     ]
    },
    {
     "name": "stderr",
     "output_type": "stream",
     "text": [
      "/home/santiago/anaconda3/lib/python3.7/site-packages/ipykernel_launcher.py:5: RuntimeWarning: invalid value encountered in sqrt\n",
      "  \"\"\"\n"
     ]
    }
   ],
   "source": [
    "m_o = 1.673e-27\n",
    "M = 9.11e-31\n",
    "\n",
    "E_o = np.arange(-10,10,0.1)\n",
    "p_o = (np.sqrt(E_o**2-(m_o**2*c**4)))/c\n",
    "\n",
    "v_o = (p_o)/np.sqrt(m_o**2+(p_o/c)**2)\n",
    "\n",
    "print(v_o)"
   ]
  },
  {
   "cell_type": "code",
   "execution_count": 25,
   "metadata": {},
   "outputs": [
    {
     "name": "stdout",
     "output_type": "stream",
     "text": [
      "[3.e+08 3.e+08 3.e+08 3.e+08 3.e+08 3.e+08 3.e+08 3.e+08 3.e+08 3.e+08\n",
      " 3.e+08 3.e+08 3.e+08 3.e+08 3.e+08 3.e+08 3.e+08 3.e+08 3.e+08 3.e+08\n",
      " 3.e+08 3.e+08 3.e+08 3.e+08 3.e+08 3.e+08 3.e+08 3.e+08 3.e+08 3.e+08\n",
      " 3.e+08 3.e+08 3.e+08 3.e+08 3.e+08 3.e+08 3.e+08 3.e+08 3.e+08 3.e+08\n",
      " 3.e+08 3.e+08 3.e+08 3.e+08 3.e+08 3.e+08 3.e+08 3.e+08 3.e+08 3.e+08\n",
      " 3.e+08 3.e+08 3.e+08 3.e+08 3.e+08 3.e+08 3.e+08 3.e+08 3.e+08 3.e+08\n",
      " 3.e+08 3.e+08 3.e+08 3.e+08 3.e+08 3.e+08 3.e+08 3.e+08 3.e+08 3.e+08\n",
      " 3.e+08 3.e+08 3.e+08 3.e+08 3.e+08 3.e+08 3.e+08 3.e+08 3.e+08 3.e+08\n",
      " 3.e+08 3.e+08 3.e+08 3.e+08 3.e+08 3.e+08 3.e+08 3.e+08 3.e+08 3.e+08\n",
      " 3.e+08 3.e+08 3.e+08 3.e+08 3.e+08 3.e+08 3.e+08 3.e+08 3.e+08 3.e+08\n",
      "    nan 3.e+08 3.e+08 3.e+08 3.e+08 3.e+08 3.e+08 3.e+08 3.e+08 3.e+08\n",
      " 3.e+08 3.e+08 3.e+08 3.e+08 3.e+08 3.e+08 3.e+08 3.e+08 3.e+08 3.e+08\n",
      " 3.e+08 3.e+08 3.e+08 3.e+08 3.e+08 3.e+08 3.e+08 3.e+08 3.e+08 3.e+08\n",
      " 3.e+08 3.e+08 3.e+08 3.e+08 3.e+08 3.e+08 3.e+08 3.e+08 3.e+08 3.e+08\n",
      " 3.e+08 3.e+08 3.e+08 3.e+08 3.e+08 3.e+08 3.e+08 3.e+08 3.e+08 3.e+08\n",
      " 3.e+08 3.e+08 3.e+08 3.e+08 3.e+08 3.e+08 3.e+08 3.e+08 3.e+08 3.e+08\n",
      " 3.e+08 3.e+08 3.e+08 3.e+08 3.e+08 3.e+08 3.e+08 3.e+08 3.e+08 3.e+08\n",
      " 3.e+08 3.e+08 3.e+08 3.e+08 3.e+08 3.e+08 3.e+08 3.e+08 3.e+08 3.e+08\n",
      " 3.e+08 3.e+08 3.e+08 3.e+08 3.e+08 3.e+08 3.e+08 3.e+08 3.e+08 3.e+08\n",
      " 3.e+08 3.e+08 3.e+08 3.e+08 3.e+08 3.e+08 3.e+08 3.e+08 3.e+08 3.e+08]\n"
     ]
    },
    {
     "name": "stderr",
     "output_type": "stream",
     "text": [
      "/home/santiago/anaconda3/lib/python3.7/site-packages/ipykernel_launcher.py:5: RuntimeWarning: invalid value encountered in sqrt\n",
      "  \"\"\"\n"
     ]
    }
   ],
   "source": [
    "m_o = 1.673e-27\n",
    "M = 9.11e-31\n",
    "\n",
    "E_1 = np.arange(-10,10,0.1)\n",
    "p_1 = (np.sqrt(E_1**2-(m_o**2*c**4)))/c\n",
    "\n",
    "v_1 = (p_1)/np.sqrt(m_o**2+(p_1/c)**2)\n",
    "\n",
    "print(v_1)"
   ]
  },
  {
   "cell_type": "markdown",
   "metadata": {},
   "source": [
    "### Muestre que la colisión inelástica, la masa en reposo del objeto combinado es mayor que la suma de las masas en reposo originales. ¿Por cuánto más es mayor la masa? ¿de dónde deriva este aumento? ¿qué significa esto?\n",
    "\n"
   ]
  },
  {
   "cell_type": "markdown",
   "metadata": {},
   "source": [
    "### 3. Dos partículas cuyas masa en reposo son $m_1$ y $m_2$ se mueven a lo largo de una linea recta con velocidades $u_1$ y $u_2$, medidas en la misma dirección. Chocan inelásticamente para formar una nueva partícula. Encuentre la masa en reposo y la velocidad de la nueva partícula. Realice una simulación del fenómeno acá expuesto"
   ]
  },
  {
   "cell_type": "code",
   "execution_count": 47,
   "metadata": {},
   "outputs": [
    {
     "name": "stdout",
     "output_type": "stream",
     "text": [
      "¿cual es la masa de la particula 1. Kg?\n",
      "None2\n",
      "¿cual es la masa de la particula 2. Kg?\n",
      "None3\n",
      "¿cual es la velocidad de la particula 1. c?\n",
      "None0.8\n",
      "¿cual es la velocidad de la particula 2. c?\n",
      "None0.9\n"
     ]
    }
   ],
   "source": [
    "#Masa \n",
    "m_1 = float(input(print(\"¿cual es la masa de la particula 1. Kg?\"))) #kg\n",
    "m_2 = float(input(print(\"¿cual es la masa de la particula 2. Kg?\"))) #kg\n",
    "m = m_1+m_2\n",
    "\n",
    "#velocidad\n",
    "u_1 = float(input(print(\"¿cual es la velocidad de la particula 1. c?\")))*c #m/s\n",
    "u_2 = float(input(print(\"¿cual es la velocidad de la particula 2. c?\")))*c #m/s\n",
    "v = u_1+u_2\n",
    "c = 3e+8 #m/s\n",
    "\n",
    "#Energía cinetica\n",
    "k = 0.5*m*v**2\n",
    "\n",
    "Dm = k/c**2\n",
    "\n",
    "M = m + Dm\n",
    "\n",
    "if u_1 > c or u_2 > c:\n",
    "    print(\"Porfavor cambie la velocidades\")"
   ]
  },
  {
   "cell_type": "code",
   "execution_count": 48,
   "metadata": {},
   "outputs": [],
   "source": [
    "#Ancho de masa 1, 2 y M\n",
    "Am_1 = 30*m_1\n",
    "Am_2 = 30*m_2\n",
    "AM = 30*M\n",
    "\n",
    "#Velocidad y posición\n",
    "\n",
    "if u_1 == u_2:\n",
    "    v_1 = np.linspace(0,u_1,100)\n",
    "    v_2 = np.linspace(u_1/2,u_2,100)\n",
    "    x1 = v_1[0]\n",
    "    x2 = v_2[-1]\n",
    "elif u_1  > u_2:\n",
    "    v_1 = np.linspace(0,u_1,100)\n",
    "    v_2 = np.linspace(u_1,u_2,100)\n",
    "    x1 = v_1[0]\n",
    "    x2 = v_2[0]\n",
    "elif u_1 < u_2:\n",
    "    v_1 = np.linspace(0,u_1,100)\n",
    "    v_2 = np.linspace(u_1,u_2,100)\n",
    "    x1 = v_1[0]\n",
    "    x2 = v_2[-1]\n",
    "#Posición\n"
   ]
  },
  {
   "cell_type": "code",
   "execution_count": 49,
   "metadata": {},
   "outputs": [
    {
     "data": {
      "image/png": "[encoded data removed]",
      "text/plain": [
       "<Figure size 432x288 with 1 Axes>"
      ]
     },
     "metadata": {
      "needs_background": "light"
     },
     "output_type": "display_data"
    }
   ],
   "source": [
    "#masa 1\n",
    "plt.scatter(x1,0, color = 'red', s = Am_1)\n",
    "plt.plot(v_1,np.zeros(len(v_1)), color = 'red')\n",
    "\n",
    "#masa 2\n",
    "plt.scatter(x2,0, color = 'blue', s = Am_2)\n",
    "plt.plot(v_2,np.zeros(len(v_2)), color = 'blue')\n",
    "\n",
    "plt.axis('equal')\n",
    "plt.grid()"
   ]
  },
  {
   "cell_type": "code",
   "execution_count": 50,
   "metadata": {},
   "outputs": [
    {
     "data": {
      "image/png": "[encoded data removed]",
      "text/plain": [
       "<Figure size 432x288 with 1 Axes>"
      ]
     },
     "metadata": {
      "needs_background": "light"
     },
     "output_type": "display_data"
    }
   ],
   "source": [
    "#Masa de la partícula final\n",
    "plt.scatter(0,0, color = 'purple', s = AM)\n",
    "plt.axis('equal')\n",
    "plt.grid()"
   ]
  },
  {
   "cell_type": "code",
   "execution_count": null,
   "metadata": {},
   "outputs": [],
   "source": []
  }
 ],
 "metadata": {
  "kernelspec": {
   "display_name": "Python 3",
   "language": "python",
   "name": "python3"
  },
  "language_info": {
   "codemirror_mode": {
    "name": "ipython",
    "version": 3
   },
   "file_extension": ".py",
   "mimetype": "text/x-python",
   "name": "python",
   "nbconvert_exporter": "python",
   "pygments_lexer": "ipython3",
   "version": "3.7.6"
  }
 },
 "nbformat": 4,
 "nbformat_minor": 4
}
