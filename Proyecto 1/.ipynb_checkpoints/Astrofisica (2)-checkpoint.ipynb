{
 "cells": [
  {
   "cell_type": "code",
   "execution_count": 2,
   "metadata": {},
   "outputs": [],
   "source": [
    "import numpy as np\n",
    "import pandas as pd\n",
    "import matplotlib.pyplot as plt\n",
    "import statistics as stats\n",
    "import math as mt\n",
    "tabla = pd.read_csv(\"cma_data.csv\") #Leer los datos ar,dec,lam\n",
    "\n",
    "ascension_recta = tabla['ra']\n",
    "declinacion = tabla['dec']"
   ]
  },
  {
   "cell_type": "code",
   "execution_count": 3,
   "metadata": {},
   "outputs": [],
   "source": [
    "velocidad_relativistica=0.4\n",
    "factor=(1)/(1-(velocidad_relativistica)**2)**0.5"
   ]
  },
  {
   "cell_type": "code",
   "execution_count": 4,
   "metadata": {},
   "outputs": [
    {
     "data": {
      "text/plain": [
       "Text(0, 0.5, 'DEC (deg)')"
      ]
     },
     "execution_count": 4,
     "metadata": {},
     "output_type": "execute_result"
    },
    {
     "data": {
      "image/png": "[encoded data removed]",
      "text/plain": [
       "<Figure size 432x288 with 1 Axes>"
      ]
     },
     "metadata": {
      "needs_background": "light"
     },
     "output_type": "display_data"
    }
   ],
   "source": [
    "ascension_recta_promedio=stats.mean(ascension_recta)\n",
    "declinacion_promedio=stats.mean(declinacion)\n",
    "plt.scatter(ascension_recta,declinacion)\n",
    "plt.scatter(ascension_recta_promedio,declinacion_promedio)\n",
    "plt.xlabel('RA (deg)')\n",
    "plt.ylabel('DEC (deg)')"
   ]
  },
  {
   "cell_type": "code",
   "execution_count": 5,
   "metadata": {},
   "outputs": [],
   "source": [
    "ascension_recta_rad = []\n",
    "declinacion_rad = []\n",
    "for i in range(0,10):\n",
    "    ascension_recta_rad.append(ascension_recta[i]*(np.pi/180))\n",
    "    declinacion_rad.append(declinacion[i]*(np.pi/180))"
   ]
  },
  {
   "cell_type": "code",
   "execution_count": 17,
   "metadata": {},
   "outputs": [
    {
     "data": {
      "text/plain": [
       "<matplotlib.collections.PathCollection at 0x7f2bc9338b70>"
      ]
     },
     "execution_count": 17,
     "metadata": {},
     "output_type": "execute_result"
    },
    {
     "data": {
      "image/png": "[encoded data removed]",
      "text/plain": [
       "<Figure size 432x288 with 1 Axes>"
      ]
     },
     "metadata": {
      "needs_background": "light"
     },
     "output_type": "display_data"
    }
   ],
   "source": [
    "ascension_recta_observada_rad=[]\n",
    "declinacion_observada_rad=[]\n",
    "for i in range(0,10):\n",
    "    ascension_recta_observada_rad.append(np.arctan((np.sin(ascension_recta_rad[i]))/(factor*(np.cos(ascension_recta_rad[i])+velocidad_relativistica))))\n",
    "    declinacion_observada_rad.append(np.arctan((np.sin(declinacion_rad[i]))/(factor*(np.cos(declinacion_rad[i])+velocidad_relativistica))))\n",
    "\n",
    "ascension_recta_observada_gra=[]\n",
    "declinacion_observada_gra=[]\n",
    "for i in range(0,10):    \n",
    "    ascension_recta_observada_gra.append(ascension_recta_observada_rad[i]*(180/np.pi))\n",
    "    declinacion_observada_gra.append(declinacion_observada_rad[i]*(180/np.pi))\n",
    "ascension_recta_corregida=[]\n",
    "declinacion_corregida=[]\n",
    "for i in range(0,10):    \n",
    "    ascension_recta_corregida.append(ascension_recta_observada_gra[i]-ascension_recta_promedio)\n",
    "    declinacion_corregida.append(declinacion_observada_gra[i]-declinacion_promedio)\n",
    "\n"
   ]
  },
  {
   "cell_type": "code",
   "execution_count": 3,
   "metadata": {},
   "outputs": [],
   "source": [
    "cinf=pd.read_csv('colors.csv')\n",
    "cinf.head()\n",
    "lamda=tabla[\"lam\"]\n",
    "lamround=5*round(lamda/5)\n",
    "colors=[cinf.hex[cinf.lamc==i].iloc[0] for i in lamround]"
   ]
  },
  {
   "cell_type": "code",
   "execution_count": 4,
   "metadata": {},
   "outputs": [
    {
     "name": "stderr",
     "output_type": "stream",
     "text": [
      "/srv/conda/envs/notebook/lib/python3.6/site-packages/ipykernel_launcher.py:4: SettingWithCopyWarning: \n",
      "A value is trying to be set on a copy of a slice from a DataFrame\n",
      "\n",
      "See the caveats in the documentation: https://pandas.pydata.org/pandas-docs/stable/user_guide/indexing.html#returning-a-view-versus-a-copy\n",
      "  after removing the cwd from sys.path.\n",
      "/srv/conda/envs/notebook/lib/python3.6/site-packages/ipykernel_launcher.py:5: SettingWithCopyWarning: \n",
      "A value is trying to be set on a copy of a slice from a DataFrame\n",
      "\n",
      "See the caveats in the documentation: https://pandas.pydata.org/pandas-docs/stable/user_guide/indexing.html#returning-a-view-versus-a-copy\n",
      "  \"\"\"\n"
     ]
    }
   ],
   "source": [
    "b=[]\n",
    "angulo_observado=[]\n",
    "for i in range(0,10):\n",
    "    ascension_recta[i]=ascension_recta[i]*(np.pi/180)\n",
    "    declinacion[i]=declinacion[i]*(np.pi/180)\n",
    "    b.append(np.arccos(np.cos(ascension_recta[i])*np.cos(declinacion[i])))\n",
    "for i in range(0,10):\n",
    "    angulo_observado.append(np.arcsin(np.sin(declinacion[i])/np.sin(b[i])))"
   ]
  },
  {
   "cell_type": "code",
   "execution_count": 5,
   "metadata": {},
   "outputs": [],
   "source": [
    "angulo_colimacion=[]\n",
    "for i in range(0,10):\n",
    "    angulo_colimacion.append(np.arctan(((1-.04**2)**(1/2)*np.sin(b[i]))/(np.cos(b[i])+0.4)))"
   ]
  },
  {
   "cell_type": "code",
   "execution_count": 7,
   "metadata": {},
   "outputs": [
    {
     "name": "stdout",
     "output_type": "stream",
     "text": [
      "[1.3575593857205042, 1.3894770185672514, 1.4299797267466796, 1.2724361920779532, 1.4792236070204083, 1.256922412687582, 1.4154161555442422, 1.4025676507638185, 1.3524115083325714, 1.381988071492735]\n"
     ]
    }
   ],
   "source": [
    "print(angulo_colimacion)"
   ]
  },
  {
   "cell_type": "code",
   "execution_count": null,
   "metadata": {},
   "outputs": [],
   "source": []
  }
 ],
 "metadata": {
  "kernelspec": {
   "display_name": "Python 3",
   "language": "python",
   "name": "python3"
  },
  "language_info": {
   "codemirror_mode": {
    "name": "ipython",
    "version": 3
   },
   "file_extension": ".py",
   "mimetype": "text/x-python",
   "name": "python",
   "nbconvert_exporter": "python",
   "pygments_lexer": "ipython3",
   "version": "3.7.6"
  }
 },
 "nbformat": 4,
 "nbformat_minor": 2
}
