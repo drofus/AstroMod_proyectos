{
 "cells": [
  {
   "cell_type": "markdown",
   "metadata": {},
   "source": [
    "### Una nave espacial que puede ir a velocidades relativistas (v = 0.4c) emprende un viaje en la dirección del centro de la constelación del Can Mayor. Utilizando los datos de cma data.csv:"
   ]
  },
  {
   "cell_type": "markdown",
   "metadata": {},
   "source": [
    "#### 1. Haga una gráfica RA/DEC que muestre el efecto de colimación relativı́stico visto desde la nave para cada estrella en la constelación. En la gráfica se deben ver las posiciones originales de las estrellas vs. las observadas desde la nave. No es necesario hacer una proyección, grafique los puntos sobre un plano cartesiano."
   ]
  },
  {
   "cell_type": "markdown",
   "metadata": {},
   "source": [
    "Para esto primero debemos analizar nuestra tabla de datos, la cual contiene:\n",
    "\n",
    " | RA | DEC | $lam$ |\n",
    "|---|---|---|\n",
    "|101.2885411|-16.71314306|601|\n",
    "|104.6564445|-28.97208931|601|\n",
    "|107.0978585|-26.39320776|701|\n",
    "|95.6749475|-17.95591658|601|\n",
    "|111.023771|-29.30311979|601|\n",
    "|95.07827982|-30.06337656|601|\n",
    "|105.7561399|-23.83330131|601|\n",
    "|105.4297988|-27.93484165|774|\n",
    "|102.4602729|-32.50848752|601|\n",
    "|103.5331452|-24.18422296|774|\n",
    "\n",
    "En este punto solo vamos a necesitar las columnas de RA y DEC. El efecto de colimación relativistico lo observara nuestra nave gracias a la aberración de la luz, para eso vamos a usar para nuestro codigo las ecuacniones:\n",
    "\n",
    "\\begin{equation}\n",
    "\\tan\\theta = \\frac{\\sin\\theta '}{\\gamma(\\cos\\theta ' + \\frac{v}{c})}\n",
    "\\end{equation}\n",
    "\n",
    "Recordemos que $\\gamma = \\frac{1}{\\sqrt{1 - \\frac{v^2}{c^2}}}$. Ahora que tenemos en cuenta todo estos datos se prosigue hacer el codigo y concluir los resultados que me muestre la gráfica."
   ]
  },
  {
   "cell_type": "code",
   "execution_count": 70,
   "metadata": {},
   "outputs": [
    {
     "data": {
      "text/plain": [
       "<matplotlib.legend.Legend at 0x7fa00f871f50>"
      ]
     },
     "execution_count": 70,
     "metadata": {},
     "output_type": "execute_result"
    },
    {
     "data": {
      "image/png": "[encoded data removed]",
      "text/plain": [
       "<Figure size 432x288 with 1 Axes>"
      ]
     },
     "metadata": {
      "needs_background": "light"
     },
     "output_type": "display_data"
    }
   ],
   "source": [
    "import numpy as np\n",
    "import pandas as pd\n",
    "import matplotlib.pyplot as plt\n",
    "\n",
    "tabla = pd.read_csv(\"cma_data.csv\") #Leer los datos ar,dec,lam\n",
    "\n",
    "RA = tabla['ra']\n",
    "DEC = tabla['dec']\n",
    "gamma = 1/((1-(0.4)**2)**0.5)\n",
    "\n",
    "dec = (DEC-f)*np.pi/180\n",
    "ra = (RA-l)*np.pi/180\n",
    "\n",
    "#Centro de la galaxia\n",
    "f = (DEC[0] + DEC[1] + DEC[2] + DEC[3] + DEC[4] + DEC[5] + DEC[6] + DEC[7] + DEC[8] + DEC[9])/len(DEC)\n",
    "l = (RA[0] + RA[1] + RA[2] + RA[3] + RA[4] + RA[5] + RA[6] + RA[7] + RA[8] + RA[9])/len(RA)\n",
    "\n",
    "#funciones\n",
    "def theta(gamma,dec):\n",
    "    return np.arctan((np.sin(dec))/(gamma*(np.cos(dec)+0.4)))*180/np.pi\n",
    "\n",
    "#gráfica\n",
    "plt.scatter(RA,DEC, label=\"Posiciones originales\")\n",
    "plt.scatter((RA-theta(gamma,ra)),(DEC-theta(gamma,dec)), label=\"Vista desde la nave\")\n",
    "plt.scatter(l,f,)\n",
    "plt.grid()\n",
    "plt.title(\"Posiciones originales vs posiciones vista desde la nave\")\n",
    "plt.xlabel(\"RA [°]\")\n",
    "plt.ylabel(\"DEC [°]\")\n",
    "plt.legend()"
   ]
  },
  {
   "cell_type": "code",
   "execution_count": null,
   "metadata": {},
   "outputs": [],
   "source": []
  }
 ],
 "metadata": {
  "kernelspec": {
   "display_name": "Python 3",
   "language": "python",
   "name": "python3"
  },
  "language_info": {
   "codemirror_mode": {
    "name": "ipython",
    "version": 3
   },
   "file_extension": ".py",
   "mimetype": "text/x-python",
   "name": "python",
   "nbconvert_exporter": "python",
   "pygments_lexer": "ipython3",
   "version": "3.7.6"
  }
 },
 "nbformat": 4,
 "nbformat_minor": 4
}
